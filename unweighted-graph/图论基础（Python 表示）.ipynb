{
 "cells": [
  {
   "cell_type": "markdown",
   "metadata": {},
   "source": [
    "# 图论基础（Python 表示）"
   ]
  },
  {
   "cell_type": "markdown",
   "metadata": {},
   "source": [
    "## 图的表示\n",
    "\n",
    "1、稀疏图\n",
    "\n",
    "稀疏图使用邻接表表示。\n",
    "\n",
    "优点：节约空间。\n",
    "缺点：访问一个结点的相邻结点的时候，需要遍历。\n",
    "\n",
    "2、稠密图\n",
    "\n",
    "稠密图使用邻接矩阵表示。\n",
    "\n",
    "优点：访问快。\n",
    "缺点：占用空间多。\n",
    "\n",
    "\n",
    "我们这一节的例子都是“无向图”。"
   ]
  },
  {
   "cell_type": "markdown",
   "metadata": {},
   "source": [
    "### 稀疏图表示"
   ]
  },
  {
   "cell_type": "markdown",
   "metadata": {},
   "source": [
    "关于邻边迭代器的部分可以暂时不看。"
   ]
  },
  {
   "cell_type": "code",
   "execution_count": 34,
   "metadata": {
    "collapsed": true
   },
   "outputs": [],
   "source": [
    "class SparseGraph:\n",
    "    def __init__(self, n, directed):\n",
    "        assert n > 0\n",
    "        # 结点数\n",
    "        self.n = n\n",
    "        # 边数\n",
    "        self.m = 0\n",
    "        # 是否是有向图\n",
    "        self.directed = directed\n",
    "        # 图的具体数据\n",
    "        self.g = [[] for _ in range(n)]\n",
    "\n",
    "    def add_edge(self, v, w):\n",
    "        assert 0 <= v < self.n\n",
    "        assert 0 <= w < self.n\n",
    "\n",
    "        # 在邻接表的实现中，has_edge 方法要进行遍历\n",
    "        # 这一步的时间复杂度是比较高的\n",
    "        # 我们在学习的时候，可以不进行判断，即允许平行边\n",
    "        # 我们这里暂时保留\n",
    "        if self.has_edge(v, w):\n",
    "            return\n",
    "\n",
    "        v_neighbours = self.g[v]\n",
    "        v_neighbours.append(w)\n",
    "\n",
    "        # 如果是无向图，维护无向图的对称性\n",
    "        # v != w 不允许自环边\n",
    "        if v != w and not self.directed:\n",
    "            w_neighbours = self.g[w]\n",
    "            w_neighbours.append(v)\n",
    "        self.m += 1\n",
    "\n",
    "    def has_edge(self, v, w):\n",
    "        assert 0 <= v < self.n\n",
    "        assert 0 <= w < self.n\n",
    "\n",
    "        # v 的所有相邻结点的集合\n",
    "        v_neighbours = self.g[v]\n",
    "        for neighbour in v_neighbours:\n",
    "            if neighbour == w:\n",
    "                return True\n",
    "        return False\n",
    "\n",
    "    def show(self):\n",
    "        for v in range(self.n):\n",
    "            print(\"顶点\", v, end=\": \")\n",
    "            for neighbour in self.g[v]:\n",
    "                print(neighbour, end=',')\n",
    "            print()\n",
    "\n",
    "    def iterator(self, v):\n",
    "        return SparseGraphIterator(self, v)"
   ]
  },
  {
   "cell_type": "markdown",
   "metadata": {},
   "source": [
    "### 稠密图表示\n",
    "\n"
   ]
  },
  {
   "cell_type": "code",
   "execution_count": 19,
   "metadata": {
    "collapsed": true
   },
   "outputs": [],
   "source": [
    "class DenseGraph:\n",
    "    def __init__(self, n, directed):\n",
    "        assert n > 0\n",
    "        # 结点数\n",
    "        self.n = n\n",
    "        # 边数\n",
    "        self.m = 0\n",
    "        # 是否是有向图\n",
    "        self.directed = directed\n",
    "        # 图的具体数据\n",
    "        self.g = [[False for _ in range(n)] for _ in range(n)]\n",
    "\n",
    "    def add_edge(self, v, w):\n",
    "        assert 0 <= v < self.n\n",
    "        assert 0 <= w < self.n\n",
    "        # 如果已经有了结点 v 到结点 w 的边\n",
    "        # 就直接返回，不再添加邻边，和 m + 1\n",
    "        if self.has_edge(v, w):\n",
    "            return\n",
    "        self.g[v][w] = True\n",
    "        # 如果是无向图，维护无向图的对称性\n",
    "        if not self.directed:\n",
    "            self.g[w][v] = True\n",
    "        self.m += 1\n",
    "\n",
    "    def has_edge(self, v, w):\n",
    "        assert 0 <= v < self.n\n",
    "        assert 0 <= w < self.n\n",
    "        return self.g[v][w]\n",
    "\n",
    "    def show(self):\n",
    "        for i in range(self.n):\n",
    "            for j in range(self.n):\n",
    "                if self.g[i][j]:\n",
    "                    print('1', end=' ')\n",
    "                else:\n",
    "                    print('0', end=' ')\n",
    "            print()\n",
    "\n",
    "    def iterator(self, v):\n",
    "        return DenseGraphIterator(self, v)"
   ]
  },
  {
   "cell_type": "markdown",
   "metadata": {},
   "source": [
    "## 邻边迭代器"
   ]
  },
  {
   "cell_type": "code",
   "execution_count": 20,
   "metadata": {
    "collapsed": true
   },
   "outputs": [],
   "source": [
    "# 稀疏图迭代器\n",
    "class SparseGraphIterator:\n",
    "    def __init__(self, graph, v):\n",
    "        self.graph = graph\n",
    "        self.neighbours = self.graph.g[v]\n",
    "        # print(self.neighbours)\n",
    "        self.index = 0\n",
    "\n",
    "    def __iter__(self):\n",
    "        return self\n",
    "\n",
    "    def __next__(self):\n",
    "        if self.index < len(self.neighbours):\n",
    "            item = self.neighbours[self.index]\n",
    "            self.index += 1\n",
    "            return item\n",
    "        else:\n",
    "            raise StopIteration\n",
    "\n",
    "\n",
    "# 稠密图迭代器\n",
    "class DenseGraphIterator:\n",
    "    def __init__(self, graph, v):\n",
    "        self.graph = graph\n",
    "        self.neighbours = self.graph.g[v]\n",
    "        self.index = -1\n",
    "        self.l = len(self.neighbours)\n",
    "\n",
    "    def __iter__(self):\n",
    "        return self\n",
    "\n",
    "    def __next__(self):\n",
    "        self.index += 1\n",
    "        if self.index == self.l:\n",
    "            raise StopIteration\n",
    "        while not self.neighbours[self.index]:\n",
    "            self.index += 1\n",
    "            if self.index == self.l:\n",
    "                raise StopIteration\n",
    "        return self.index"
   ]
  },
  {
   "cell_type": "markdown",
   "metadata": {},
   "source": [
    "## 读图工具"
   ]
  },
  {
   "cell_type": "code",
   "execution_count": 21,
   "metadata": {
    "collapsed": true
   },
   "outputs": [],
   "source": [
    "class ReadGraph:\n",
    "    def __init__(self, graph, filename):\n",
    "        self.g = graph\n",
    "        with open(filename, 'r') as fr:\n",
    "            V, E = fr.readline().split(',')\n",
    "            print('图的顶点数和边数：', V, E, end='')\n",
    "            for line in fr.readlines():\n",
    "                v, w = line.split(',')\n",
    "                # print(v, w, end='')\n",
    "                self.g.add_edge(int(v), int(w))"
   ]
  },
  {
   "cell_type": "markdown",
   "metadata": {},
   "source": [
    "有了图的数据结构表示和从一个文件中读取图，我们就可以编写如下测试方法了。"
   ]
  },
  {
   "cell_type": "markdown",
   "metadata": {},
   "source": [
    "下面我们编写测试方法。"
   ]
  },
  {
   "cell_type": "markdown",
   "metadata": {},
   "source": [
    "### 使用稀疏图表示一个图\n",
    "\n",
    "“graph1.txt” 文件如下图左边表示，是一个文本文件，第 1 行是“图的顶点数和边数”，后面的所有行表示边的信息，每一行存储的是边的两个顶点。\n",
    "\n",
    "![](https://liweiwei1419.github.io/images/algorithms/graph/例1.jpg)\n",
    "\n",
    "用邻接表表示是这样的：\n",
    "\n",
    "![](https://liweiwei1419.github.io/images/algorithms/graph/例1邻接表表示.jpg)\n"
   ]
  },
  {
   "cell_type": "code",
   "execution_count": 45,
   "metadata": {
    "collapsed": true
   },
   "outputs": [],
   "source": [
    "filename = 'graph1.txt'"
   ]
  },
  {
   "cell_type": "code",
   "execution_count": 48,
   "metadata": {},
   "outputs": [
    {
     "name": "stdout",
     "output_type": "stream",
     "text": [
      "图的顶点数和边数： 13 13\n",
      "顶点 0: 5,1,2,6,\n",
      "顶点 1: 0,\n",
      "顶点 2: 0,\n",
      "顶点 3: 4,5,\n",
      "顶点 4: 3,6,5,\n",
      "顶点 5: 0,4,3,\n",
      "顶点 6: 4,0,\n",
      "顶点 7: 8,\n",
      "顶点 8: 7,\n",
      "顶点 9: 12,10,11,\n",
      "顶点 10: 9,\n",
      "顶点 11: 12,9,\n",
      "顶点 12: 9,11,\n"
     ]
    }
   ],
   "source": [
    "sparseg = SparseGraph(13, False)\n",
    "rg = ReadGraph(sparseg, filename)\n",
    "sparseg.show()"
   ]
  },
  {
   "cell_type": "markdown",
   "metadata": {},
   "source": [
    "### 使用稠密图表示一个图"
   ]
  },
  {
   "cell_type": "markdown",
   "metadata": {},
   "source": [
    "用邻接矩阵表示是这样的：\n",
    "![](https://liweiwei1419.github.io/images/algorithms/graph/例1邻接矩阵表示.jpg)"
   ]
  },
  {
   "cell_type": "code",
   "execution_count": 49,
   "metadata": {},
   "outputs": [
    {
     "name": "stdout",
     "output_type": "stream",
     "text": [
      "图的顶点数和边数： 13 13\n",
      "0 1 1 0 0 1 1 0 0 0 0 0 0 \n",
      "1 0 0 0 0 0 0 0 0 0 0 0 0 \n",
      "1 0 0 0 0 0 0 0 0 0 0 0 0 \n",
      "0 0 0 0 1 1 0 0 0 0 0 0 0 \n",
      "0 0 0 1 0 1 1 0 0 0 0 0 0 \n",
      "1 0 0 1 1 0 0 0 0 0 0 0 0 \n",
      "1 0 0 0 1 0 0 0 0 0 0 0 0 \n",
      "0 0 0 0 0 0 0 0 1 0 0 0 0 \n",
      "0 0 0 0 0 0 0 1 0 0 0 0 0 \n",
      "0 0 0 0 0 0 0 0 0 0 1 1 1 \n",
      "0 0 0 0 0 0 0 0 0 1 0 0 0 \n",
      "0 0 0 0 0 0 0 0 0 1 0 0 1 \n",
      "0 0 0 0 0 0 0 0 0 1 0 1 0 \n"
     ]
    }
   ],
   "source": [
    "denseg = DenseGraph(13, False)\n",
    "rg = ReadGraph(denseg, filename)\n",
    "denseg.show()"
   ]
  },
  {
   "cell_type": "markdown",
   "metadata": {},
   "source": [
    "## 图的深度优先遍历、计算图的连通分量"
   ]
  },
  {
   "cell_type": "code",
   "execution_count": 36,
   "metadata": {
    "collapsed": true
   },
   "outputs": [],
   "source": [
    "# 使用深度优先遍历计算连通分量\n",
    "class Component:\n",
    "    def __init__(self, graph):\n",
    "        self.graph = graph\n",
    "        # 记录深度优先遍历的过程中结点是否被访问过\n",
    "        self.vistied = [False for _ in range(self.graph.n)]\n",
    "        # 每个结点对应的连通分量的标记，一开始设置为 -1 ，从 0 开始编号，设置成 0 是不正确的\n",
    "        self.id = [-1] * self.graph.n\n",
    "        # 一开始连通分量设置为 0\n",
    "        self.ccount = 0\n",
    "\n",
    "        # 下面是深度优先遍历的模板代码\n",
    "        # 求图的连通分量\n",
    "        for i in range(self.graph.n):\n",
    "            if not self.vistied[i]:\n",
    "                self.__dfs(i)\n",
    "                # 一次深度优先遍历完成以后，连通分量 + 1\n",
    "                self.ccount += 1\n",
    "\n",
    "    def __dfs(self, v):\n",
    "        self.vistied[v] = True\n",
    "        self.id[v] = self.ccount\n",
    "\n",
    "        for neighbour_index in self.graph.iterator(v):\n",
    "            # print(v, neighbour_index, self.vistied)\n",
    "            if not self.vistied[neighbour_index]:\n",
    "                self.__dfs(neighbour_index)\n",
    "\n",
    "    def is_connected(self, v, w):\n",
    "        assert 0 <= v < self.graph.n\n",
    "        assert 0 <= w < self.graph.n\n",
    "        return self.id[v] == self.id[w]"
   ]
  },
  {
   "cell_type": "markdown",
   "metadata": {},
   "source": [
    "测试用例就是图 1。\n",
    "\n"
   ]
  },
  {
   "cell_type": "markdown",
   "metadata": {},
   "source": [
    "+ 稀疏图表示，计算连通分量。"
   ]
  },
  {
   "cell_type": "code",
   "execution_count": 38,
   "metadata": {
    "collapsed": true
   },
   "outputs": [],
   "source": [
    "filename = 'graph1.txt'"
   ]
  },
  {
   "cell_type": "code",
   "execution_count": 50,
   "metadata": {},
   "outputs": [
    {
     "name": "stdout",
     "output_type": "stream",
     "text": [
      "连通分量个数 3\n"
     ]
    }
   ],
   "source": [
    "c = Component(sparseg)\n",
    "print('连通分量个数', c.ccount)"
   ]
  },
  {
   "cell_type": "markdown",
   "metadata": {},
   "source": [
    "+ 稠密图表示，计算连通分量。"
   ]
  },
  {
   "cell_type": "code",
   "execution_count": 51,
   "metadata": {},
   "outputs": [
    {
     "name": "stdout",
     "output_type": "stream",
     "text": [
      "连通分量个数 3\n"
     ]
    }
   ],
   "source": [
    "c = Component(denseg)\n",
    "print('连通分量个数', c.ccount)"
   ]
  },
  {
   "cell_type": "markdown",
   "metadata": {},
   "source": [
    "## 寻路算法\n",
    "\n",
    "找到从一个点（源点）出发，到另一点的一条路径。"
   ]
  },
  {
   "cell_type": "code",
   "execution_count": 42,
   "metadata": {
    "collapsed": true
   },
   "outputs": [],
   "source": [
    "class Path:\n",
    "    def __init__(self, graph, source):\n",
    "        self.graph = graph\n",
    "        assert 0 <= source < self.graph.n\n",
    "        self.visited = [False] * self.graph.n\n",
    "        self.from_ = [-1] * self.graph.n\n",
    "        self.source = source\n",
    "        self.__dfs(source)\n",
    "\n",
    "    def __dfs(self, v):\n",
    "        self.visited[v] = True\n",
    "        for v_neighbour in self.graph.iterator(v):\n",
    "            if not self.visited[v_neighbour]:\n",
    "                self.from_[v_neighbour] = v\n",
    "                self.__dfs(v_neighbour)\n",
    "\n",
    "    def has_path(self, w):\n",
    "        assert 0 <= w < self.graph.n\n",
    "        return self.visited[w]\n",
    "\n",
    "    def path(self, w):\n",
    "        assert self.has_path(w)\n",
    "        stack = []\n",
    "\n",
    "        p = w\n",
    "        while p != -1:\n",
    "            stack.append(p)\n",
    "            p = self.from_[p]\n",
    "\n",
    "        path = []\n",
    "        while stack:\n",
    "            path.append(stack.pop())\n",
    "        return path\n",
    "\n",
    "    def show_path(self, w):\n",
    "        assert self.has_path(w)\n",
    "        path = self.path(w)\n",
    "        # print('路径',path)\n",
    "        print(\" -> \".join(map(lambda x: str(x), path)))"
   ]
  },
  {
   "cell_type": "code",
   "execution_count": 53,
   "metadata": {},
   "outputs": [
    {
     "name": "stdout",
     "output_type": "stream",
     "text": [
      "0 -> 5 -> 4 -> 6\n"
     ]
    }
   ],
   "source": [
    "p = Path(sparseg, 0)\n",
    "p.show_path(6)"
   ]
  },
  {
   "cell_type": "code",
   "execution_count": 52,
   "metadata": {},
   "outputs": [
    {
     "name": "stdout",
     "output_type": "stream",
     "text": [
      "0 -> 5 -> 3 -> 4 -> 6\n"
     ]
    }
   ],
   "source": [
    "p = Path(denseg, 0)\n",
    "p.show_path(6)"
   ]
  },
  {
   "cell_type": "markdown",
   "metadata": {},
   "source": [
    "## 广度优先遍历找到无权图最短路径"
   ]
  },
  {
   "cell_type": "code",
   "execution_count": null,
   "metadata": {
    "collapsed": true
   },
   "outputs": [],
   "source": []
  }
 ],
 "metadata": {
  "kernelspec": {
   "display_name": "Python 3",
   "language": "python",
   "name": "python3"
  },
  "language_info": {
   "codemirror_mode": {
    "name": "ipython",
    "version": 3
   },
   "file_extension": ".py",
   "mimetype": "text/x-python",
   "name": "python",
   "nbconvert_exporter": "python",
   "pygments_lexer": "ipython3",
   "version": "3.6.1"
  },
  "toc": {
   "nav_menu": {},
   "number_sections": true,
   "sideBar": true,
   "skip_h1_title": false,
   "toc_cell": false,
   "toc_position": {},
   "toc_section_display": "block",
   "toc_window_display": true
  }
 },
 "nbformat": 4,
 "nbformat_minor": 2
}
